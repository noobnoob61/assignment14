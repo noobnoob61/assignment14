{
 "cells": [
  {
   "cell_type": "markdown",
   "metadata": {},
   "source": [
    "1) Write a program to load the above given dataset, and print \n",
    "top 5 and last 5 rows, and find the no. of row and no. \n",
    "columns in the dataset."
   ]
  },
  {
   "cell_type": "code",
   "execution_count": 5,
   "metadata": {},
   "outputs": [
    {
     "name": "stdout",
     "output_type": "stream",
     "text": [
      "    brand processor_brand processor_name processor_gnrtn ram_gb ram_type  \\\n",
      "0    ASUS           Intel        Core i3            10th   4 GB     DDR4   \n",
      "1  Lenovo           Intel        Core i3            10th   4 GB     DDR4   \n",
      "2  Lenovo           Intel        Core i3            10th   4 GB     DDR4   \n",
      "3    ASUS           Intel        Core i5            10th   8 GB     DDR4   \n",
      "4    ASUS           Intel   Celeron Dual   Not Available   4 GB     DDR4   \n",
      "5    ASUS           Intel   Celeron Dual   Not Available   4 GB     DDR4   \n",
      "\n",
      "      ssd      hdd       os  os_bit graphic_card_gb  weight     warranty  \\\n",
      "0    0 GB  1024 GB  Windows  64-bit            0 GB  Casual  No warranty   \n",
      "1    0 GB  1024 GB  Windows  64-bit            0 GB  Casual  No warranty   \n",
      "2    0 GB  1024 GB  Windows  64-bit            0 GB  Casual  No warranty   \n",
      "3  512 GB     0 GB  Windows  32-bit            2 GB  Casual  No warranty   \n",
      "4    0 GB   512 GB  Windows  64-bit            0 GB  Casual  No warranty   \n",
      "5    0 GB   512 GB  Windows  64-bit            0 GB  Casual  No warranty   \n",
      "\n",
      "  Touchscreen msoffice  Price   rating  Number of Ratings  Number of Reviews  \n",
      "0          No       No  34649  2 stars                  3                  0  \n",
      "1          No       No  38999  3 stars                 65                  5  \n",
      "2          No       No  39999  3 stars                  8                  1  \n",
      "3          No       No  69990  3 stars                  0                  0  \n",
      "4          No       No  26990  3 stars                  0                  0  \n",
      "5          No       No  22990  3 stars                  0                  0  \n",
      "      brand processor_brand processor_name processor_gnrtn ram_gb ram_type  \\\n",
      "817    ASUS             AMD        Ryzen 9   Not Available   4 GB  LPDDR4X   \n",
      "818    ASUS             AMD        Ryzen 9   Not Available   4 GB     DDR4   \n",
      "819    ASUS             AMD        Ryzen 9   Not Available   4 GB     DDR4   \n",
      "820    ASUS             AMD        Ryzen 9   Not Available   4 GB     DDR4   \n",
      "821    ASUS             AMD        Ryzen 9   Not Available   4 GB     DDR4   \n",
      "822  Lenovo             AMD        Ryzen 5            10th   8 GB     DDR4   \n",
      "\n",
      "         ssd   hdd       os  os_bit graphic_card_gb      weight     warranty  \\\n",
      "817  1024 GB  0 GB  Windows  64-bit            4 GB      Casual       1 year   \n",
      "818  1024 GB  0 GB  Windows  64-bit            0 GB      Casual       1 year   \n",
      "819  1024 GB  0 GB  Windows  64-bit            0 GB      Casual       1 year   \n",
      "820  1024 GB  0 GB  Windows  64-bit            4 GB      Casual       1 year   \n",
      "821  1024 GB  0 GB  Windows  64-bit            4 GB      Casual       1 year   \n",
      "822   512 GB  0 GB      DOS  64-bit            0 GB  ThinNlight  No warranty   \n",
      "\n",
      "    Touchscreen msoffice   Price   rating  Number of Ratings  \\\n",
      "817         Yes      Yes  234990  3 stars                  0   \n",
      "818          No       No  135990  3 stars                  0   \n",
      "819          No       No  144990  3 stars                  0   \n",
      "820          No       No  149990  3 stars                  0   \n",
      "821          No       No  142990  3 stars                  0   \n",
      "822          No       No   57490  4 stars                 18   \n",
      "\n",
      "     Number of Reviews  \n",
      "817                  0  \n",
      "818                  0  \n",
      "819                  0  \n",
      "820                  0  \n",
      "821                  0  \n",
      "822                  4  \n",
      "\n",
      "\n",
      "823\n",
      "19\n"
     ]
    }
   ],
   "source": [
    "import pandas as pd\n",
    "\n",
    "df=pd.read_csv(\"laptopPrice.csv\")\n",
    "print(df.head(6))\n",
    "print(df.tail(6))\n",
    "\n",
    "print(\"\\n\")\n",
    "rows , columns =df.shape\n",
    "print(rows)\n",
    "print(columns)\n"
   ]
  },
  {
   "cell_type": "markdown",
   "metadata": {},
   "source": [
    "2) Find no. of entry for each “processor_brand”, and find which \n",
    "processor brand laptop availability is high and low."
   ]
  },
  {
   "cell_type": "code",
   "execution_count": 16,
   "metadata": {},
   "outputs": [
    {
     "name": "stdout",
     "output_type": "stream",
     "text": [
      "processor_brand\n",
      "Intel    610\n",
      "AMD      189\n",
      "M1        24\n",
      "Name: count, dtype: int64\n",
      "\n",
      "\n",
      "highest= Intel\n",
      "lowest= M1\n"
     ]
    }
   ],
   "source": [
    "\n",
    "num= df['processor_brand'].value_counts()\n",
    "\n",
    "print(num)\n",
    "print('\\n')\n",
    "print('highest=', num.idxmax())\n",
    "print('lowest=',num.idxmin())"
   ]
  },
  {
   "cell_type": "markdown",
   "metadata": {},
   "source": [
    "3) Make a group on “processor_brand” and find out the\n",
    "minimum and maximum price of all the processor_brand \n",
    "laptop"
   ]
  },
  {
   "cell_type": "code",
   "execution_count": 15,
   "metadata": {},
   "outputs": [
    {
     "data": {
      "text/html": [
       "<div>\n",
       "<style scoped>\n",
       "    .dataframe tbody tr th:only-of-type {\n",
       "        vertical-align: middle;\n",
       "    }\n",
       "\n",
       "    .dataframe tbody tr th {\n",
       "        vertical-align: top;\n",
       "    }\n",
       "\n",
       "    .dataframe thead th {\n",
       "        text-align: right;\n",
       "    }\n",
       "</style>\n",
       "<table border=\"1\" class=\"dataframe\">\n",
       "  <thead>\n",
       "    <tr style=\"text-align: right;\">\n",
       "      <th></th>\n",
       "      <th>minimum_price</th>\n",
       "      <th>maximum_price</th>\n",
       "    </tr>\n",
       "    <tr>\n",
       "      <th>processor_brand</th>\n",
       "      <th></th>\n",
       "      <th></th>\n",
       "    </tr>\n",
       "  </thead>\n",
       "  <tbody>\n",
       "    <tr>\n",
       "      <th>AMD</th>\n",
       "      <td>32917</td>\n",
       "      <td>234990</td>\n",
       "    </tr>\n",
       "    <tr>\n",
       "      <th>Intel</th>\n",
       "      <td>16990</td>\n",
       "      <td>441990</td>\n",
       "    </tr>\n",
       "    <tr>\n",
       "      <th>M1</th>\n",
       "      <td>85990</td>\n",
       "      <td>309990</td>\n",
       "    </tr>\n",
       "  </tbody>\n",
       "</table>\n",
       "</div>"
      ],
      "text/plain": [
       "                 minimum_price  maximum_price\n",
       "processor_brand                              \n",
       "AMD                      32917         234990\n",
       "Intel                    16990         441990\n",
       "M1                       85990         309990"
      ]
     },
     "execution_count": 15,
     "metadata": {},
     "output_type": "execute_result"
    }
   ],
   "source": [
    "\n",
    "group= df.groupby('processor_brand')\n",
    "group['Price'].agg(minimum_price='min',maximum_price='max')\n"
   ]
  },
  {
   "cell_type": "markdown",
   "metadata": {},
   "source": [
    "4) Filter all the ‘APPLE’ brand laptop, and find top 5 APPLE \n",
    "brand laptop which has the highest price. And top 5 those \n",
    "has lowest price."
   ]
  },
  {
   "cell_type": "code",
   "execution_count": 18,
   "metadata": {},
   "outputs": [
    {
     "name": "stdout",
     "output_type": "stream",
     "text": [
      "top 5 highest price=      brand processor_brand processor_name processor_gnrtn ram_gb ram_type  \\\n",
      "621  APPLE              M1             M1            10th  32 GB     DDR4   \n",
      "620  APPLE              M1             M1            10th  16 GB     DDR4   \n",
      "614  APPLE              M1             M1            10th  16 GB     DDR4   \n",
      "619  APPLE              M1             M1            10th  16 GB     DDR4   \n",
      "622  APPLE              M1             M1            10th  16 GB     DDR4   \n",
      "\n",
      "         ssd   hdd   os  os_bit graphic_card_gb  weight warranty Touchscreen  \\\n",
      "621  1024 GB  0 GB  Mac  64-bit            0 GB  Casual   1 year          No   \n",
      "620  1024 GB  0 GB  Mac  64-bit            0 GB  Casual   1 year          No   \n",
      "614   512 GB  0 GB  Mac  64-bit            0 GB  Casual   1 year          No   \n",
      "619  1024 GB  0 GB  Mac  64-bit            0 GB  Casual   1 year          No   \n",
      "622  1024 GB  0 GB  Mac  64-bit            0 GB  Casual   1 year          No   \n",
      "\n",
      "    msoffice   Price   rating  Number of Ratings  Number of Reviews  \n",
      "621       No  309990  5 stars                  3                  1  \n",
      "620       No  243990  4 stars                 42                  8  \n",
      "614       No  225990  4 stars                 42                  8  \n",
      "619       No  225990  4 stars                 42                  8  \n",
      "622       No  225990  4 stars                 42                  8  \n",
      "top 5 lowest price=      brand processor_brand processor_name processor_gnrtn ram_gb ram_type  \\\n",
      "599  APPLE              M1             M1            10th   8 GB     DDR4   \n",
      "605  APPLE              M1             M1            10th   8 GB     DDR4   \n",
      "609  APPLE              M1             M1            10th   8 GB     DDR4   \n",
      "608  APPLE              M1             M1            10th   8 GB     DDR4   \n",
      "601  APPLE              M1             M1            10th  16 GB     DDR4   \n",
      "\n",
      "        ssd   hdd   os  os_bit graphic_card_gb  weight warranty Touchscreen  \\\n",
      "599  256 GB  0 GB  Mac  64-bit            0 GB  Casual   1 year          No   \n",
      "605  256 GB  0 GB  Mac  64-bit            0 GB  Casual   1 year          No   \n",
      "609  512 GB  0 GB  Mac  64-bit            0 GB  Casual   1 year          No   \n",
      "608  512 GB  0 GB  Mac  64-bit            0 GB  Casual   1 year          No   \n",
      "601  256 GB  0 GB  Mac  64-bit            0 GB  Casual   1 year          No   \n",
      "\n",
      "    msoffice   Price   rating  Number of Ratings  Number of Reviews  \n",
      "599       No   85990  4 stars               6725                629  \n",
      "605       No   85990  4 stars               6725                629  \n",
      "609       No  101990  4 stars                809                 91  \n",
      "608       No  103990  4 stars                809                 91  \n",
      "601       No  104990  4 stars                 45                  4  \n"
     ]
    }
   ],
   "source": [
    "apple= df[df['brand'] == 'APPLE']\n",
    "\n",
    "print(\"top 5 highest price=\", apple.nlargest(5,'Price'))\n",
    "print(\"top 5 lowest price=\",apple.nsmallest(5,'Price'))"
   ]
  }
 ],
 "metadata": {
  "kernelspec": {
   "display_name": "Python 3",
   "language": "python",
   "name": "python3"
  },
  "language_info": {
   "codemirror_mode": {
    "name": "ipython",
    "version": 3
   },
   "file_extension": ".py",
   "mimetype": "text/x-python",
   "name": "python",
   "nbconvert_exporter": "python",
   "pygments_lexer": "ipython3",
   "version": "3.11.9"
  }
 },
 "nbformat": 4,
 "nbformat_minor": 2
}
